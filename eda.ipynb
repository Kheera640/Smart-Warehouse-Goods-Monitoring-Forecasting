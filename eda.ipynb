{
 "cells": [
  {
   "cell_type": "code",
   "execution_count": null,
   "id": "02c0b983",
   "metadata": {
    "vscode": {
     "languageId": "julia"
    }
   },
   "outputs": [],
   "source": [
    "import pandas as pd\n",
    "import matplotlib.pyplot as plt\n",
    "\n",
    "df = pd.read_csv(\"processed_data.csv\")\n",
    "\n",
    "# Plot sales distribution\n",
    "plt.hist(df['HistoricalSales'], bins=20)\n",
    "plt.title(\"Historical Sales Distribution\")\n",
    "plt.show()\n",
    "\n",
    "# Correlation matrix\n",
    "correlation = df[['DaysUntilExpiry', 'QuantityInStock', 'HistoricalSales']].corr()\n",
    "print(correlation)"
   ]
  }
 ],
 "metadata": {
  "language_info": {
   "name": "python"
  }
 },
 "nbformat": 4,
 "nbformat_minor": 5
}
